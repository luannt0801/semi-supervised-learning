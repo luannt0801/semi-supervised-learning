{
 "cells": [
  {
   "cell_type": "code",
   "execution_count": 2,
   "metadata": {},
   "outputs": [],
   "source": [
    "# import liblary\n",
    "import torch\n",
    "import torch.optim as optim\n",
    "import torch.nn as nn\n",
    "from tqdm import tqdm\n",
    "from sklearn.metrics import precision_score, recall_score, f1_score\n",
    "from src.data import get_datasetCML, data_semi_learning\n",
    "from src.logging_config import logger\n",
    "from src.model.model import (\n",
    "    LSTMModel,\n",
    "    LeNet,\n",
    "    LeNet_5,\n",
    "    resnet20,\n",
    "    resnet32,\n",
    "    resnet44,\n",
    "    resnet56,\n",
    "    resnet110,\n",
    "    resnet1202,\n",
    ")\n",
    "from src.utils import *\n",
    "\n",
    "MODEL_DICT = {\n",
    "    \"LSTMModel\": LSTMModel,\n",
    "    \"LeNet\": LeNet,\n",
    "    \"LeNet_5\": LeNet_5,\n",
    "    \"resnet20\": resnet20,\n",
    "    \"resnet32\": resnet32,\n",
    "    \"resnet44\": resnet44,\n",
    "    \"resnet56\": resnet56,\n",
    "    \"resnet110\": resnet110,\n",
    "    \"resnet1202\": resnet1202,\n",
    "}"
   ]
  },
  {
   "cell_type": "markdown",
   "metadata": {},
   "source": [
    "## Visualization Data\n",
    "1. First train model with 5 classes of Data (Cifar10)\n",
    "epoch [1, 5, 10, 20, 40, 50] --> acc increase\n",
    "--> Save model parameter \n",
    "\n",
    "2. Visualized\n",
    "Data with class (5 + n) collect outputs and visulized "
   ]
  },
  {
   "cell_type": "code",
   "execution_count": 8,
   "metadata": {},
   "outputs": [
    {
     "name": "stdout",
     "output_type": "stream",
     "text": [
      "Files already downloaded and verified\n",
      "Files already downloaded and verified\n",
      "check check the batch: tensor([[[-2.4291, -2.4291, -2.4291,  ..., -2.4291, -2.4291, -2.4291],\n",
      "         [-2.4291, -2.4291, -2.4291,  ..., -2.4291, -2.4291, -2.4291],\n",
      "         [-2.4291, -2.4291, -2.4291,  ..., -2.4291, -2.4291, -2.4291],\n",
      "         ...,\n",
      "         [-2.4291, -2.4291, -2.4291,  ..., -2.4291, -2.4291, -2.4291],\n",
      "         [-2.4291, -2.4291, -2.4291,  ..., -2.4291, -2.4291, -2.4291],\n",
      "         [-2.4291, -2.4291, -2.4291,  ..., -2.4291, -2.4291, -2.4291]],\n",
      "\n",
      "        [[-2.4183, -2.4183, -2.4183,  ..., -2.4183, -2.4183, -2.4183],\n",
      "         [-2.4183, -2.4183, -2.4183,  ..., -2.4183, -2.4183, -2.4183],\n",
      "         [-2.4183, -2.4183, -2.4183,  ..., -2.4183, -2.4183, -2.4183],\n",
      "         ...,\n",
      "         [-2.4183, -2.4183, -2.4183,  ..., -2.4183, -2.4183, -2.4183],\n",
      "         [-2.4183, -2.4183, -2.4183,  ..., -2.4183, -2.4183, -2.4183],\n",
      "         [-2.4183, -2.4183, -2.4183,  ..., -2.4183, -2.4183, -2.4183]],\n",
      "\n",
      "        [[-2.2214, -2.2214, -2.2214,  ..., -2.2214, -2.2214, -2.2214],\n",
      "         [-2.2214, -2.2214, -2.2214,  ..., -2.2214, -2.2214, -2.2214],\n",
      "         [-2.2214, -2.2214, -2.2214,  ..., -2.2214, -2.2214, -2.2214],\n",
      "         ...,\n",
      "         [-2.2214, -2.2214, -2.2214,  ..., -2.2214, -2.2214, -2.2214],\n",
      "         [-2.2214, -2.2214, -2.2214,  ..., -2.2214, -2.2214, -2.2214],\n",
      "         [-2.2214, -2.2214, -2.2214,  ..., -2.2214, -2.2214, -2.2214]]]):\n",
      "\n"
     ]
    }
   ],
   "source": [
    "# trainning model with 5 classes [0,1,2,3,4]\n",
    "data_use = \"cifar10\"\n",
    "num_classes = 10\n",
    "batch_size = 64\n",
    "labeled_classed = [0,1,2,3,4]\n",
    "\n",
    "trainset_5class, trainset_unlabeled = data_semi_learning(data_use=data_use, num_class=num_classes, batch_size=64, labeled_classes=labeled_classed)\n",
    "\n",
    "for batch in trainset_5class:\n",
    "    print(f\"check check the batch: {batch[0]}:\\n\")\n",
    "    # print(f\"check check the idx: {idx}\")\n",
    "    # print(f\"check check the idx: {data}\")\n",
    "    break\n",
    "\n",
    "# for batch in trainset_unlabeled:\n",
    "#     print(f\"check check the batch: {batch[0]}:\\n\")\n",
    "#     # print(f\"check check the idx: {idx}\")\n",
    "#     # print(f\"check check the idx: {data}\")\n",
    "#     break\n"
   ]
  },
  {
   "cell_type": "code",
   "execution_count": null,
   "metadata": {},
   "outputs": [],
   "source": [
    "trainloader5classes = DataLoader(trainset_5class, batch_size=64, shuffle=True)\n",
    "\n",
    "## trainning\n",
    "def train_one_epoch(model, trainloader, optimizer, criterion, device, epoch):\n",
    "    model.train()\n",
    "    running_loss = 0.0\n",
    "    correct, total = 0, 0\n",
    "\n",
    "    progress_bar = tqdm(trainloader, desc=f\"Epoch {epoch+1}\", leave=True)\n",
    "\n",
    "    for idx, (inputs, labels) in enumerate(progress_bar):\n",
    "        inputs, labels = inputs.to(device), labels.to(device)\n",
    "\n",
    "        optimizer.zero_grad()\n",
    "        outputs, _ = model(inputs)\n",
    "\n",
    "        loss = criterion(outputs, labels)\n",
    "        loss.backward()\n",
    "        optimizer.step()\n",
    "\n",
    "        running_loss += loss.item()\n",
    "\n",
    "        _, predicted = torch.max(outputs, 1)\n",
    "        total += labels.size(0)\n",
    "        correct += (predicted == labels).sum().item()\n",
    "\n",
    "    if epoch in [1, 5, 10, 20, 40, 50]:\n",
    "        torch.save(model.state_dict(), f\"Lenet5_cifar10_final_{epoch}.pth\")\n",
    "\n",
    "    epoch_loss = running_loss / len(trainloader)\n",
    "    accuracy = 100 * correct / total\n",
    "\n",
    "    logger.info(f\"Epoch [{epoch+1}] | Loss: {epoch_loss:.4f} | Accuracy: {accuracy:.2f}%\")\n",
    "\n",
    "def trainning_main():\n",
    "    device = torch.device(\"cuda\" if torch.cuda.is_available else \"cpu\")\n",
    "    model_run = \"LeNet\"\n",
    "    model= MODEL_DICT.get(model_run, None)\n",
    "    \n"
   ]
  },
  {
   "cell_type": "markdown",
   "metadata": {},
   "source": [
    "## Create Pseudo Label\n",
    "1. Check with cluster algorithsm\n",
    "- DBSCAN\n",
    "- Affinity Propagation\n",
    "-"
   ]
  }
 ],
 "metadata": {
  "kernelspec": {
   "display_name": "luan",
   "language": "python",
   "name": "python3"
  },
  "language_info": {
   "codemirror_mode": {
    "name": "ipython",
    "version": 3
   },
   "file_extension": ".py",
   "mimetype": "text/x-python",
   "name": "python",
   "nbconvert_exporter": "python",
   "pygments_lexer": "ipython3",
   "version": "3.12.2"
  }
 },
 "nbformat": 4,
 "nbformat_minor": 2
}
